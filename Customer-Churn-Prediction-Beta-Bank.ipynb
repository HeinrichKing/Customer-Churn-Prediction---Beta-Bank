{
 "cells": [
  {
   "cell_type": "markdown",
   "id": "5c25d04b",
   "metadata": {},
   "source": [
    "## PROYECTO 10 - Aprendizaje Supervisado "
   ]
  },
  {
   "cell_type": "markdown",
   "id": "c6e1eb53",
   "metadata": {},
   "source": [
    "#### Carga de datos e importación de librerías"
   ]
  },
  {
   "cell_type": "code",
   "execution_count": 1,
   "id": "cc406bb1",
   "metadata": {
    "trusted": false
   },
   "outputs": [],
   "source": [
    "pip install seaborn"
   ]
  },
  {
   "cell_type": "code",
   "execution_count": 7,
   "id": "89ad7a2b",
   "metadata": {
    "trusted": false
   },
   "outputs": [],
   "source": [
    "import pandas as pd \n",
    "import numpy as np\n",
    "import seaborn as sns\n",
    "import matplotlib.pyplot as plt\n"
   ]
  },
  {
   "cell_type": "code",
   "execution_count": 6,
   "id": "2c188aff",
   "metadata": {
    "trusted": false
   },
   "outputs": [],
   "source": [
    "from sklearn.model_selection import train_test_split\n",
    "from sklearn.preprocessing import StandardScaler\n",
    "from sklearn.metrics import f1_score, roc_auc_score, classification_report, confusion_matrix\n",
    "from sklearn.ensemble import RandomForestClassifier\n",
    "from sklearn.linear_model import LinearRegression, LogisticRegression\n",
    "from sklearn.tree import DecisionTreeClassifier\n",
    "from sklearn.metrics import mean_absolute_error, precision_score\n"
   ]
  },
  {
   "cell_type": "code",
   "execution_count": null,
   "metadata": {
    "trusted": false
   },
   "outputs": [],
   "source": [
    "df = pd.read_csv(r\"C:\\Users\\Usuario\\Desktop\\CARPETAS\\TRIPLETEN\\PROYECTO10\\Churn.csv\")"
   ]
  },
  {
   "cell_type": "markdown",
   "id": "a76f623d",
   "metadata": {},
   "source": [
    "#### Analisis del DataFrame"
   ]
  },
  {
   "cell_type": "code",
   "execution_count": 8,
   "id": "aee69e26",
   "metadata": {
    "trusted": false
   },
   "outputs": [
    {
     "data": {},
     "execution_count": 8,
     "metadata": {},
     "output_type": "execute_result"
    }
   ],
   "source": [
    "df.head()"
   ]
  },
  {
   "cell_type": "code",
   "execution_count": 9,
   "id": "97da2d6c",
   "metadata": {
    "trusted": false
   },
   "outputs": [],
   "source": [
    "df.info()"
   ]
  },
  {
   "cell_type": "code",
   "execution_count": 10,
   "id": "7acbceca",
   "metadata": {
    "trusted": false
   },
   "outputs": [],
   "source": [
    "#Eliminamos columnas innecesarias para el modelo\n",
    "df = df.drop(['RowNumber', 'CustomerId', 'Surname'], axis=1)\n",
    "\n",
    "#Rellenamos los valores faltantes de \"Tenure\"\n",
    "df['Tenure'] = df['Tenure'].fillna(df['Tenure'].mean())"
   ]
  },
  {
   "cell_type": "code",
   "execution_count": 11,
   "metadata": {
    "trusted": false
   },
   "outputs": [],
   "source": [
    "#Comprobamos los cambios \n",
    "df.info()"
   ]
  },
  {
   "cell_type": "markdown",
   "id": "cc2515a0",
   "metadata": {},
   "source": [
    "**Comentarios:**\n",
    "\n",
    "Se cargaron los datos y se eliminaron las columnas irrelevantes para el modelo así como tambien se rellenó la columna \"Tenure\" con la media de los datos ya que teniamos datos faltantes en esa columna. "
   ]
  },
  {
   "cell_type": "markdown",
   "id": "fc0bb79c",
   "metadata": {},
   "source": [
    "#### Preprocesamiento de datos"
   ]
  },
  {
   "cell_type": "code",
   "execution_count": 12,
   "id": "cf4c3905",
   "metadata": {
    "trusted": false
   },
   "outputs": [
    {
     "data": {},
     "execution_count": 12,
     "metadata": {},
     "output_type": "execute_result"
    }
   ],
   "source": [
    "df[\"Geography\"].unique()"
   ]
  },
  {
   "cell_type": "code",
   "execution_count": 13,
   "id": "ebef5426",
   "metadata": {
    "trusted": false
   },
   "outputs": [],
   "source": [
    "#Codificamos las variables categóricas\n",
    "df_ohe = pd.get_dummies(df, columns=[\"Geography\", \"Gender\"] ,drop_first= True) \n",
    "print(df_ohe.columns)\n",
    "print(df_ohe[[\"Geography_Germany\",\"Geography_Spain\",\"Gender_Male\"]])"
   ]
  },
  {
   "cell_type": "markdown",
   "id": "d723095d",
   "metadata": {},
   "source": [
    "**Comentarios:**\n",
    "\n",
    "En este paso tenemos definido ya la clase Geography (país) como True o False dependiendo si la persona es de alguno de los 3 países que vemos en el df (España, Francia y Alemania); así como tambien tenemos la categoría Gender como True o False para la nueva columna Gender_Male. "
   ]
  },
  {
   "cell_type": "markdown",
   "id": "a3d2c998",
   "metadata": {},
   "source": [
    "#### Separamos las características y el objetivo "
   ]
  },
  {
   "cell_type": "code",
   "execution_count": 14,
   "id": "4ece8e5c",
   "metadata": {
    "trusted": false
   },
   "outputs": [],
   "source": [
    "features = df_ohe.drop(\"Exited\", axis=1)\n",
    "target = df_ohe[\"Exited\"]"
   ]
  },
  {
   "cell_type": "markdown",
   "id": "a9c7bef7",
   "metadata": {},
   "source": [
    "#### Dividimos el conjunto de entrenamiento y validación "
   ]
  },
  {
   "cell_type": "code",
   "execution_count": 15,
   "id": "3b499f49",
   "metadata": {
    "trusted": false
   },
   "outputs": [],
   "source": [
    "#Dividimos en conjuntos de entrenamiento y validación\n",
    "\n",
    "# Primera división: separamos el 20% como conjunto de prueba\n",
    "features_temp, features_test, target_temp, target_test = train_test_split(features, target, test_size=0.20, random_state=12345)\n",
    "\n",
    "# Segunda división: ahora dividimos el 80% restante en entrenamiento y validación (60%-20%)\n",
    "features_train, features_valid, target_train, target_valid = train_test_split(features_temp, target_temp, test_size=0.25, random_state=12345)# 0.25 * 0.80 = 0.20"
   ]
  },
  {
   "cell_type": "code",
   "execution_count": 16,
   "id": "a807ba88",
   "metadata": {
    "trusted": false
   },
   "outputs": [],
   "source": [
    "print(features_train.shape) #60% del Dataframe\n",
    "print(features_valid.shape) #20% del DataFrame\n",
    "print(features_test.shape) #20% del DataFrame"
   ]
  },
  {
   "cell_type": "markdown",
   "id": "f3cbc9ae",
   "metadata": {},
   "source": [
    "#### Escalamos los datos númericos "
   ]
  },
  {
   "cell_type": "code",
   "execution_count": 17,
   "id": "b9aaeb0c",
   "metadata": {
    "trusted": false
   },
   "outputs": [],
   "source": [
    "numeric = [\"CreditScore\",\"Age\",\"Tenure\",\"Balance\",\"NumOfProducts\",\"EstimatedSalary\"]\n",
    "scaler = StandardScaler()\n",
    "\n",
    "scaler.fit(features_train[numeric])\n",
    "features_train[numeric] = scaler.transform(features_train[numeric])\n",
    "features_valid[numeric] = scaler.transform(features_valid[numeric])\n",
    "features_test[numeric] = scaler.transform(features_test[numeric])"
   ]
  },
  {
   "cell_type": "markdown",
   "id": "9536a8b7",
   "metadata": {},
   "source": [
    "#### Equilibrio de clases"
   ]
  },
  {
   "cell_type": "code",
   "execution_count": 18,
   "id": "15c9e036",
   "metadata": {
    "trusted": false
   },
   "outputs": [
    {
     "data": {
      "image/png": "[encoded data removed]"
     },
     "metadata": {},
     "output_type": "display_data"
    }
   ],
   "source": [
    "#Distribución de clases \n",
    "print(target.value_counts(normalize=True))\n",
    "sns.countplot(x=target)\n",
    "plt.title(\"Distribución de clases(Exited)\")\n",
    "plt.show()"
   ]
  },
  {
   "cell_type": "markdown",
   "id": "a62c57e3",
   "metadata": {},
   "source": [
    "#### Entrenamos diferentes modelos sin corregir el desequilibrio de clases"
   ]
  },
  {
   "cell_type": "markdown",
   "metadata": {},
   "source": [
    "##### Logistic Regression"
   ]
  },
  {
   "cell_type": "code",
   "execution_count": 36,
   "id": "8f001e5c",
   "metadata": {
    "trusted": false
   },
   "outputs": [],
   "source": [
    "model = LogisticRegression(random_state=12345, solver= 'liblinear')\n",
    "model.fit(features_train,target_train)\n",
    "target_predict = model.predict(features_valid)\n",
    "target_probability = model.predict_proba(features_valid)[:,1]\n",
    "    \n",
    "f1 = f1_score(target_valid,target_predict)\n",
    "roc = roc_auc_score(target_valid,target_probability)\n",
    "    \n",
    "print(f\"F1 Score:{f1:.3f}\")\n",
    "print(f\"AUC-ROC:{roc:.3f}\")"
   ]
  },
  {
   "cell_type": "markdown",
   "metadata": {},
   "source": [
    "##### Decision Tree (con 10 diferentes profundidades)"
   ]
  },
  {
   "cell_type": "code",
   "execution_count": 43,
   "metadata": {
    "trusted": false
   },
   "outputs": [],
   "source": [
    "best_f1_decisiontree= 0\n",
    "best_roc_decisiontree= 0\n",
    "best_depth1_decisiontree= 0\n",
    "best_depth2_decisiontree= 0\n",
    "\n",
    "for depth in range (1,11):\n",
    "    model= DecisionTreeClassifier(random_state=12345, max_depth= depth)\n",
    "    model.fit(features_train,target_train)\n",
    "    target_predict = model.predict(features_valid)\n",
    "    target_probability = model.predict_proba(features_valid)[:,1]\n",
    "    \n",
    "    f1 = f1_score(target_valid,target_predict)\n",
    "    roc = roc_auc_score(target_valid,target_probability)\n",
    "    print(\"Max_depth\",depth,\": f1_score=\",f1,\" AUC-ROC=\",roc)\n",
    "    \n",
    "    if f1 > best_f1_decisiontree:\n",
    "        best_f1_decisiontree = f1 \n",
    "        best_depth1_decisiontree = depth\n",
    "    \n",
    "    elif roc > best_roc_decisiontree:\n",
    "        best_roc_decisiontree = roc\n",
    "        best_depth2_decisiontree = depth \n",
    "        \n",
    "print()\n",
    "print(\"El mejor resultado f1 fue:\",best_f1_decisiontree,\"usando depth=\",best_depth1_decisiontree)\n",
    "print(\"El mejor resultado AUC-ROC fue:\",best_roc_decisiontree,\"usando depth=\",best_depth2_decisiontree)"
   ]
  },
  {
   "cell_type": "markdown",
   "metadata": {},
   "source": [
    "##### Random Forest (rango de 10 estimators)"
   ]
  },
  {
   "cell_type": "code",
   "execution_count": 44,
   "metadata": {
    "trusted": false
   },
   "outputs": [],
   "source": [
    "best_f1_randomforest= 0\n",
    "best_roc_randomforest= 0\n",
    "best_est1_randomforest= 0\n",
    "best_est2_randomforest= 0\n",
    "\n",
    "for est in range (1,11):\n",
    "    model= RandomForestClassifier(random_state=12345, n_estimators=est)\n",
    "    model.fit(features_train,target_train)\n",
    "    target_predict = model.predict(features_valid)\n",
    "    target_probability = model.predict_proba(features_valid)[:,1]\n",
    "    \n",
    "    f1 = f1_score(target_valid,target_predict)\n",
    "    roc = roc_auc_score(target_valid,target_probability)\n",
    "    print(\"Max_est\",est,\": f1_score=\",f1,\" AUC-ROC=\",roc)\n",
    "    \n",
    "    if f1 > best_f1_randomforest:\n",
    "        best_f1_randomforest = f1 \n",
    "        best_est1_randomforest = est\n",
    "    \n",
    "    elif roc > best_roc_randomforest:\n",
    "        best_roc_randomforest = roc\n",
    "        best_est2_randomforest = est \n",
    "        \n",
    "print()\n",
    "print(\"El mejor resultado f1 fue:\",best_f1_randomforest,\"usando n_est=\",best_est1_randomforest)\n",
    "print(\"El mejor resultado AUC-ROC fue:\",best_roc_randomforest,\"usando n_est=\",best_est2_randomforest)"
   ]
  },
  {
   "cell_type": "markdown",
   "id": "aada1797",
   "metadata": {},
   "source": [
    "**Comentarios:**\n",
    "\n",
    "Se entrenaron diferentes modelos con variaiciones en sus hiperparámetros sin corregir el desequilibrio de clases. Se obtuvo su valor F1 y AUC-ROC de cada modelo y podemos observar que hasta el momento los modelos que mayor f1 score obtubieron fue:\n",
    "- DecisionTree (depth 7): f1= 0.5583 \n",
    "- Random Forest (n_est= 5): f1= 0.5582\n",
    "\n",
    "En cuanto a lso mejores resultados AUC-ROC encontramos:\n",
    "- DecisionTree (depth 6): AUC-ROC= 0.8136\n",
    "- RandomForest (n_est= 10): AUC-ROC= 0.8111\n",
    "\n",
    "A continuación usaremos la técnica de sobremuestreo y submuestreo para equilibrar las clases y veremos cual es nuestro máximo resultado F1 y AUC-ROC."
   ]
  },
  {
   "cell_type": "markdown",
   "id": "07a59088",
   "metadata": {},
   "source": [
    "#### Mejoraremos la calidad del modelo corrigiendo el desequilibrio"
   ]
  },
  {
   "cell_type": "markdown",
   "id": "8c9aa5c3",
   "metadata": {},
   "source": [
    "##### Sobremuestreo"
   ]
  },
  {
   "cell_type": "code",
   "execution_count": 39,
   "id": "487e59a3",
   "metadata": {
    "trusted": false
   },
   "outputs": [],
   "source": [
    "#Dividimos el dataset de entrenamiento en observaciones positivas y negativas\n",
    "features_zeros = features_train[target_train == 0]\n",
    "features_ones = features_train[target_train == 1]\n",
    "target_zeros = target_train[target_train == 0]\n",
    "target_ones = target_train[target_train == 1]\n",
    "\n",
    "print(features_zeros.shape)\n",
    "print(features_ones.shape)\n",
    "print(target_zeros.shape)\n",
    "print(target_ones.shape)\n"
   ]
  },
  {
   "cell_type": "code",
   "execution_count": 40,
   "id": "4979014f",
   "metadata": {
    "trusted": false
   },
   "outputs": [],
   "source": [
    "#Duplicamos varias veces las observaciones positivas y combinamos con las observaciones de clase negatvivas\n",
    "repeat = 10\n",
    "features_upsampled = pd.concat([features_zeros]+[features_ones]*repeat)\n",
    "target_upsampled = pd.concat([target_zeros]+[target_ones]*repeat)\n",
    "\n",
    "print(features_upsampled.shape)\n",
    "print(target_upsampled.shape)"
   ]
  },
  {
   "cell_type": "code",
   "execution_count": 41,
   "metadata": {
    "trusted": false
   },
   "outputs": [],
   "source": [
    "#Logistic Regression \n",
    "model_upsampled = LogisticRegression(random_state=12345, solver= 'liblinear')\n",
    "model_upsampled.fit(features_upsampled,target_upsampled)\n",
    "target_predict_upsampled = model_upsampled.predict(features_valid)\n",
    "target_probability_upsampled = model_upsampled.predict_proba(features_valid)[:,1]\n",
    "    \n",
    "f1_upsampled = f1_score(target_valid,target_predict_upsampled)\n",
    "roc_upsampled = roc_auc_score(target_valid,target_probability_upsampled)\n",
    "    \n",
    "print(f\"F1 Score:{f1_upsampled:.3f}\")\n",
    "print(f\"AUC-ROC:{roc_upsampled:.3f}\")"
   ]
  },
  {
   "cell_type": "code",
   "execution_count": 42,
   "metadata": {
    "trusted": false
   },
   "outputs": [],
   "source": [
    "#DecisionTree\n",
    "best_f1_upsampled= 0\n",
    "best_roc_upsampled= 0\n",
    "best_depth1_upsampled= 0\n",
    "best_depth2_upsampled= 0\n",
    "\n",
    "for depth in range (1,11):\n",
    "    model= DecisionTreeClassifier(random_state=12345, max_depth= depth)\n",
    "    model.fit(features_upsampled,target_upsampled)\n",
    "    target_predict = model.predict(features_valid)\n",
    "    target_probability = model.predict_proba(features_valid)[:,1]\n",
    "    \n",
    "    f1 = f1_score(target_valid,target_predict)\n",
    "    roc = roc_auc_score(target_valid,target_probability)\n",
    "    print(\"Max_depth\",depth,\": f1_score=\",f1,\" AUC-ROC=\",roc)\n",
    "    \n",
    "    if f1 > best_f1_upsampled:\n",
    "        best_f1_upsampled = f1 \n",
    "        best_depth1_upsampled = depth\n",
    "    \n",
    "    elif roc > best_roc_upsampled:\n",
    "        best_roc_upsampled = roc\n",
    "        best_depth2_upsampled= depth \n",
    "        \n",
    "print()\n",
    "print(\"El mejor resultado f1 fue:\",best_f1_upsampled,\"usando depth=\",best_depth1_upsampled)\n",
    "print(\"El mejor resultado AUC-ROC fue:\",best_roc_upsampled,\"usando depth=\",best_depth2_upsampled)"
   ]
  },
  {
   "cell_type": "code",
   "execution_count": 48,
   "metadata": {
    "trusted": false
   },
   "outputs": [],
   "source": [
    "#RandomForest\n",
    "best_f1_randomforest_ups= 0\n",
    "best_roc_randomforest_ups= 0\n",
    "best_est1_randomforest_ups= 0\n",
    "best_est2_randomforest_ups= 0\n",
    "\n",
    "for est in range (1,11):\n",
    "    model= RandomForestClassifier(random_state=12345, n_estimators=est)\n",
    "    model.fit(features_upsampled,target_upsampled)\n",
    "    target_predict = model.predict(features_valid)\n",
    "    target_probability = model.predict_proba(features_valid)[:,1]\n",
    "    \n",
    "    f1 = f1_score(target_valid,target_predict)\n",
    "    roc = roc_auc_score(target_valid,target_probability)\n",
    "    print(\"Max_est\",est,\": f1_score=\",f1,\" AUC-ROC=\",roc)\n",
    "    \n",
    "    if f1 > best_f1_randomforest_ups:\n",
    "        best_f1_randomforest_ups = f1 \n",
    "        best_est1_randomforest_ups = est\n",
    "    \n",
    "    elif roc > best_roc_randomforest_ups:\n",
    "        best_roc_randomforest_ups = roc\n",
    "        best_est2_randomforest_ups = est \n",
    "        \n",
    "print()\n",
    "print(\"El mejor resultado f1 fue:\",best_f1_randomforest_ups,\"usando n_est=\",best_est1_randomforest_ups)\n",
    "print(\"El mejor resultado AUC-ROC fue:\",best_roc_randomforest_ups,\"usando n_est=\",best_est2_randomforest_ups)"
   ]
  },
  {
   "cell_type": "markdown",
   "id": "cd0a5f0e",
   "metadata": {},
   "source": [
    "**Comentarios:**\n",
    "\n",
    "Vemos como con la técnica de sobremuestreo logramos mejorar los resultados F1 Score para LogisticRegresion (de 0.301 a 0.405) y de RandomForest (de 0.5582 a 0.5751 aunque para lograr esta mejora deberemos cambiar el hiperparametro depth de 7 a 5). En el caso de DecisionTree unicamente disminuyó el valor F1 máximo a lograr (de 0.558 bajó a 0.486).\n",
    "Para los resultados AUC-ROC logramos mejorar los 3 resultados; LogisticRegresion (de 0.770 a 0.773), DecisionTree (de 0.813 a 0.826 con el mismo hiperparametro de depth 6) y RandomForest (de 0.811 a 0.828)"
   ]
  },
  {
   "cell_type": "markdown",
   "id": "e8a9e16b",
   "metadata": {},
   "source": [
    "##### Submuestreo"
   ]
  },
  {
   "cell_type": "code",
   "execution_count": 49,
   "id": "2bdd8c62",
   "metadata": {
    "trusted": false
   },
   "outputs": [],
   "source": [
    "features_downsampled = pd.concat([features_zeros.sample(frac = 0.1, random_state= 12345)]+[features_ones])\n",
    "target_downsampled = pd.concat([target_zeros.sample(frac = 0.1, random_state= 12345)]+[target_ones])"
   ]
  },
  {
   "cell_type": "code",
   "execution_count": 50,
   "metadata": {
    "trusted": false
   },
   "outputs": [],
   "source": [
    "#LogisticRegresion\n",
    "model_downsampled = LogisticRegression(random_state=12345, solver= 'liblinear')\n",
    "model_downsampled.fit(features_downsampled,target_downsampled)\n",
    "target_predict_downsampled = model_downsampled.predict(features_valid)\n",
    "target_probability_downsampled = model_downsampled.predict_proba(features_valid)[:,1]\n",
    "    \n",
    "f1_downsampled = f1_score(target_valid,target_predict_downsampled)\n",
    "roc_downsampled = roc_auc_score(target_valid,target_probability_downsampled)\n",
    "    \n",
    "print(f\"F1 Score:{f1_downsampled:.3f}\")\n",
    "print(f\"AUC-ROC:{roc_downsampled:.3f}\")"
   ]
  },
  {
   "cell_type": "code",
   "execution_count": 51,
   "metadata": {
    "trusted": false
   },
   "outputs": [],
   "source": [
    "#DecisionTree\n",
    "best_f1_dtree_downsampled= 0\n",
    "best_roc_dtree_downsampled= 0\n",
    "best_depth1_dtree_downsampled= 0\n",
    "best_depth2_dtree_downsampled= 0\n",
    "\n",
    "for depth in range (1,11):\n",
    "    model= DecisionTreeClassifier(random_state=12345, max_depth= depth)\n",
    "    model.fit(features_downsampled,target_downsampled)\n",
    "    target_predict = model.predict(features_valid)\n",
    "    target_probability = model.predict_proba(features_valid)[:,1]\n",
    "    \n",
    "    f1 = f1_score(target_valid,target_predict)\n",
    "    roc = roc_auc_score(target_valid,target_probability)\n",
    "    print(\"Max_depth\",depth,\": f1_score=\",f1,\" AUC-ROC=\",roc)\n",
    "    \n",
    "    if f1 > best_f1_dtree_downsampled:\n",
    "        best_f1_dtree_downsampled = f1 \n",
    "        best_depth1_dtree_downsampled = depth\n",
    "    \n",
    "    elif roc > best_roc_dtree_downsampled:\n",
    "        best_roc_dtree_downsampled = roc\n",
    "        best_depth2_dtree_downsampled= depth \n",
    "        \n",
    "print()\n",
    "print(\"El mejor resultado f1 fue:\",best_f1_dtree_downsampled,\"usando depth=\",best_depth1_dtree_downsampled)\n",
    "print(\"El mejor resultado AUC-ROC fue:\",best_roc_dtree_downsampled,\"usando depth=\",best_depth2_dtree_downsampled)"
   ]
  },
  {
   "cell_type": "code",
   "execution_count": 52,
   "metadata": {
    "trusted": false
   },
   "outputs": [],
   "source": [
    "#RandomForest\n",
    "best_f1_randomforest_dws= 0\n",
    "best_roc_randomforest_dws= 0\n",
    "best_est1_randomforest_dws= 0\n",
    "best_est2_randomforest_dws= 0\n",
    "\n",
    "for est in range (1,11):\n",
    "    model= RandomForestClassifier(random_state=12345, n_estimators=est)\n",
    "    model.fit(features_downsampled,target_downsampled)\n",
    "    target_predict = model.predict(features_valid)\n",
    "    target_probability = model.predict_proba(features_valid)[:,1]\n",
    "    \n",
    "    f1 = f1_score(target_valid,target_predict)\n",
    "    roc = roc_auc_score(target_valid,target_probability)\n",
    "    print(\"Max_est\",est,\": f1_score=\",f1,\" AUC-ROC=\",roc)\n",
    "    \n",
    "    if f1 > best_f1_randomforest_dws:\n",
    "        best_f1_randomforest_dws = f1 \n",
    "        best_est1_randomforest_dws = est\n",
    "    \n",
    "    elif roc > best_roc_randomforest_dws:\n",
    "        best_roc_randomforest_dws = roc\n",
    "        best_est2_randomforest_dws = est \n",
    "        \n",
    "print()\n",
    "print(\"El mejor resultado f1 fue:\",best_f1_randomforest_dws,\"usando n_est=\",best_est1_randomforest_dws)\n",
    "print(\"El mejor resultado AUC-ROC fue:\",best_roc_randomforest_dws,\"usando n_est=\",best_est2_randomforest_dws)"
   ]
  },
  {
   "cell_type": "markdown",
   "id": "2e07be75",
   "metadata": {},
   "source": [
    "**Comentarios:**\n",
    "\n",
    "El submuestreo nos ayudó a mejorar el resultado F1 y AUC-ROC únicamente en LogisticRegresion (f1 de 0.301 a 0.407 y AUC-ROC de 0.770 a 0.773), tanto DecisionTree como RandomForest bajó sus resultados F1 y AUC-ROC máximos. "
   ]
  },
  {
   "cell_type": "markdown",
   "id": "1f65432a",
   "metadata": {},
   "source": [
    "**Observaciones:**\n",
    "\n",
    "¿Como sabemos que estás técnicas funcionaron?\n",
    "- Observamos y comparamos como cambia el F1 Score, que considera tanto precisión como recall, cuanto más alto, mejor. \n",
    "- Revisamos el AUC-ROC, que mide qué tan bien el modelo distingue entre las dos clases\n",
    "\n",
    "Ahora realizaremos la prueba final utilizando features_test y target_test. Elegiremos el modelo Random Forest con la calibración de Sobremuestreo ya que fue la que mejores resultados F1 y AUC-ROC nos dieron en comparación con los demás modelos."
   ]
  },
  {
   "cell_type": "markdown",
   "metadata": {},
   "source": [
    "#### Prueba final "
   ]
  },
  {
   "cell_type": "code",
   "execution_count": 61,
   "metadata": {
    "trusted": false
   },
   "outputs": [],
   "source": [
    "#RandomForest\n",
    "best_f1_finaltest= 0\n",
    "best_roc_finaltest= 0\n",
    "best_est1_finaltest= 0\n",
    "best_est2_finaltest= 0\n",
    "\n",
    "for est in range (1,21):\n",
    "    model= RandomForestClassifier(random_state=12345, n_estimators=est)\n",
    "    model.fit(features_upsampled,target_upsampled)\n",
    "    target_predict = model.predict(features_test)\n",
    "    target_probability = model.predict_proba(features_test)[:,1]\n",
    "    \n",
    "    f1 = f1_score(target_test,target_predict)\n",
    "    roc = roc_auc_score(target_test,target_probability)\n",
    "    print(\"Max_est\",est,\": f1_score=\",f1,\" AUC-ROC=\",roc)\n",
    "    \n",
    "    if f1 > best_f1_finaltest:\n",
    "        best_f1_finaltest = f1 \n",
    "        best_est1_finaltest = est\n",
    "    \n",
    "    elif roc > best_roc_finaltest:\n",
    "        best_roc_finaltest = roc\n",
    "        best_est2_finaltest = est \n",
    "        \n",
    "print()\n",
    "print(\"El mejor resultado f1 fue:\",best_f1_finaltest,\"usando n_est=\",best_est1_finaltest)\n",
    "print(\"El mejor resultado AUC-ROC fue:\",best_roc_finaltest,\"usando n_est=\",best_est2_finaltest)"
   ]
  },
  {
   "cell_type": "markdown",
   "id": "7b56bf59",
   "metadata": {},
   "source": [
    "### Conclusiones "
   ]
  },
  {
   "cell_type": "markdown",
   "id": "700145ac",
   "metadata": {},
   "source": [
    "Una vez hecha la prueba final podemos observar que Random Forest con el hiper parámetro de 17 n_estimators y balanceando con el sobremuestreo nos da el mejor resultado F1 a obtener, dandonos un resultado de 0.6072 y un AUC-ROC de 0.8341. "
   ]
  }
 ],
 "metadata": {
  "ExecuteTimeLog": [
   {
    "duration": 1957,
    "start_time": "2025-05-09T01:30:40.643Z"
   },
   {
    "duration": 801,
    "start_time": "2025-05-09T01:30:42.602Z"
   },
   {
    "duration": 214,
    "start_time": "2025-05-09T01:30:43.406Z"
   },
   {
    "duration": 27,
    "start_time": "2025-05-09T01:30:43.623Z"
   },
   {
    "duration": 14,
    "start_time": "2025-05-09T01:30:43.652Z"
   },
   {
    "duration": 19,
    "start_time": "2025-05-09T01:30:43.668Z"
   },
   {
    "duration": 5,
    "start_time": "2025-05-09T01:30:43.690Z"
   },
   {
    "duration": 4,
    "start_time": "2025-05-09T01:30:43.697Z"
   },
   {
    "duration": 11,
    "start_time": "2025-05-09T01:30:43.709Z"
   },
   {
    "duration": 3,
    "start_time": "2025-05-09T01:30:43.723Z"
   },
   {
    "duration": 5,
    "start_time": "2025-05-09T01:30:43.728Z"
   },
   {
    "duration": 3,
    "start_time": "2025-05-09T01:30:43.734Z"
   },
   {
    "duration": 18,
    "start_time": "2025-05-09T01:30:43.739Z"
   },
   {
    "duration": 132,
    "start_time": "2025-05-09T01:30:43.759Z"
   },
   {
    "duration": 3,
    "start_time": "2025-05-09T01:30:43.893Z"
   },
   {
    "duration": 960,
    "start_time": "2025-05-09T01:30:43.899Z"
   },
   {
    "duration": 7,
    "start_time": "2025-05-09T01:30:44.861Z"
   },
   {
    "duration": 7,
    "start_time": "2025-05-09T01:30:44.870Z"
   },
   {
    "duration": 1731,
    "start_time": "2025-05-09T01:30:44.878Z"
   },
   {
    "duration": 6,
    "start_time": "2025-05-09T01:30:46.611Z"
   },
   {
    "duration": 451,
    "start_time": "2025-05-09T01:30:46.619Z"
   }
  ],
  "kernelspec": {
   "display_name": "Python 3 (ipykernel)",
   "language": "python",
   "name": "python3"
  },
  "language_info": {
   "codemirror_mode": {
    "name": "ipython",
    "version": 3
   },
   "file_extension": ".py",
   "mimetype": "text/x-python",
   "name": "python",
   "nbconvert_exporter": "python",
   "pygments_lexer": "ipython3",
   "version": "3.9.19"
  },
  "toc": {
   "base_numbering": 1,
   "nav_menu": {},
   "number_sections": true,
   "sideBar": true,
   "skip_h1_title": true,
   "title_cell": "Table of Contents",
   "title_sidebar": "Contents",
   "toc_cell": false,
   "toc_position": {},
   "toc_section_display": true,
   "toc_window_display": false
  }
 },
 "nbformat": 4,
 "nbformat_minor": 2
}
